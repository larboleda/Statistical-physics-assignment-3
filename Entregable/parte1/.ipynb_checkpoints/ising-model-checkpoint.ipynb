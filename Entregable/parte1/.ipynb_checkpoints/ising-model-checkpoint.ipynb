{
 "cells": [
  {
   "cell_type": "code",
   "execution_count": 26,
   "metadata": {
    "collapsed": true
   },
   "outputs": [],
   "source": [
    "%matplotlib inline\n",
    "from __future__ import division\n",
    "import numpy as np\n",
    "from numpy.random import rand\n",
    "import matplotlib.pyplot as plt\n"
   ]
  },
  {
   "cell_type": "code",
   "execution_count": 21,
   "metadata": {
    "collapsed": true
   },
   "outputs": [],
   "source": [
    "#----------------------------------------------------------------------\n",
    "##  BLOCK OF FUNCTIONS USED IN THE MAIN CODE\n",
    "#----------------------------------------------------------------------\n",
    "\n",
    "def initialstate(N):   \n",
    "    #generates a random spin configuration for initial condition\n",
    "    state = 2*np.random.randint(2, size=(N,N))-1\n",
    "    return state\n",
    "\n",
    "\n",
    "def mcmove(config, beta):\n",
    "    #Monte Carlo move using Metropolis algorithm\n",
    "    for i in range(N):\n",
    "        for j in range(N):\n",
    "                a = np.random.randint(0, N)\n",
    "                b = np.random.randint(0, N)\n",
    "                s =  config[a, b]\n",
    "                nb = config[(a+1)%N,b] + config[a,(b+1)%N] + config[(a-1)%N,b] + config[a,(b-1)%N]\n",
    "                cost = 2*s*nb\n",
    "                if cost < 0:\n",
    "                    s *= -1\n",
    "                elif rand() < np.exp(-cost*beta):\n",
    "                    s *= -1\n",
    "                config[a, b] = s\n",
    "    return config\n",
    "\n",
    "\n",
    "def calcEnergy(config):\n",
    "    #Energy of a given configuration\n",
    "    energy = 0\n",
    "    for i in range(len(config)):\n",
    "        for j in range(len(config)):\n",
    "            S = config[i,j]\n",
    "            nb = config[(i+1)%N, j] + config[i,(j+1)%N] + config[(i-1)%N, j] + config[i,(j-1)%N]\n",
    "            energy += -nb*S\n",
    "    return energy/4.\n",
    "\n",
    "\n",
    "def calcMag(config):\n",
    "    #Magnetization of a given configuration\n",
    "    mag = np.sum(config)\n",
    "    return mag"
   ]
  },
  {
   "cell_type": "code",
   "execution_count": 44,
   "metadata": {},
   "outputs": [
    {
     "name": "stdout",
     "output_type": "stream",
     "text": [
      "[[-1 -1 -1]\n",
      " [ 1  1  1]\n",
      " [-1 -1  1]]\n",
      "[-3  3 -1]\n"
     ]
    }
   ],
   "source": [
    "N = 3\n",
    "config = initialstate(N)\n",
    "\n",
    "y = calcMag(config)\n",
    "calcEnergy(config)\n",
    "\n",
    "mcmove(config, 2.0)\n",
    "    \n",
    "print(config)\n",
    "\n",
    "print(z)"
   ]
  },
  {
   "cell_type": "code",
   "execution_count": 25,
   "metadata": {},
   "outputs": [],
   "source": [
    "## change the parameter below if you want to simulate a smaller system\n",
    "nt      = 2**5        # number of temperature points\n",
    "N       = 2*2        # size of the lattice, N x N\n",
    "#N       = 4*4\n",
    "#N       = 6*6\n",
    "eqSteps = 2**10       # number of monte carlo steps for equilibration\n",
    "mcSteps = 2**10       # number of monte carlo esteps for calculation\n",
    "\n",
    "n1, n2  = 1.0/(mcSteps*N*N), 1.0/(mcSteps*mcSteps*N*N)\n",
    "tm = 2.269;    T=np.random.normal(tm, .64, nt)\n",
    "T  = T[(T>1.2) & (T<3.8)];    nt = np.size(T)\n",
    "\n",
    "Energy       = np.zeros(nt);   Magnetization  = np.zeros(nt)\n",
    "SpecificHeat = np.zeros(nt);   Susceptibility = np.zeros(nt)\n",
    "\n",
    "\n",
    "#----------------------------------------------------------------------\n",
    "#  MAIN PART OF THE CODE\n",
    "#----------------------------------------------------------------------\n",
    "for m in range(len(T)):\n",
    "    E1 = M1 = E2 = M2 = 0\n",
    "    config = initialstate(N)\n",
    "    iT=1.0/T[m]; iT2=iT*iT;\n",
    "    \n",
    "    for i in range(eqSteps):         # equilibrate\n",
    "        mcmove(config, iT)           # Monte Carlo moves\n",
    "\n",
    "    for i in range(mcSteps):\n",
    "        mcmove(config, iT)           \n",
    "        Ene = calcEnergy(config)     # calculate the energy\n",
    "        Mag = calcMag(config)        # calculate the magnetisation\n",
    "\n",
    "        E1 = E1 + Ene\n",
    "        M1 = M1 + Mag\n",
    "        M2 = M2 + Mag*Mag \n",
    "        E2 = E2 + Ene*Ene\n",
    "\n",
    "        Energy[m]         = n1*E1\n",
    "        Magnetization[m]  = n1*M1\n",
    "        SpecificHeat[m]   = (n1*E2 - n2*E1*E1)*iT2\n",
    "        Susceptibility[m] = (n1*M2 - n2*M1*M1)*iT\n",
    "\n"
   ]
  },
  {
   "cell_type": "code",
   "execution_count": 33,
   "metadata": {},
   "outputs": [
    {
     "data": {
      "image/png": "[encoded data removed]",
      "text/plain": [
       "<matplotlib.figure.Figure at 0x7fa9e34bf0b8>"
      ]
     },
     "metadata": {},
     "output_type": "display_data"
    }
   ],
   "source": [
    "f = plt.figure(figsize=(16,10)); # plot the calculated values    \n",
    "\n",
    "sp =  f.add_subplot(2, 2, 1 )\n",
    "plt.plot(T, Energy, 'o', color=\"blue\")\n",
    "plt.xlabel(r\"Temperature (T)\", fontsize=15)\n",
    "plt.ylabel(r\"Energy \", fontsize=15)\n",
    "plt.grid()\n",
    "\n",
    "sp =  f.add_subplot(2, 2, 2 )\n",
    "plt.plot(T, abs(Magnetization), 'o', color=\"blue\")\n",
    "plt.xlabel(r\"Temperature (T)\", fontsize=15)\n",
    "plt.ylabel(r\"Magnetization\", fontsize=15)\n",
    "plt.grid()\n",
    "\n",
    "\n",
    "sp =  f.add_subplot(2, 2, 3 )\n",
    "plt.plot(T, SpecificHeat, 'o', color=\"blue\")\n",
    "plt.xlabel(r\"Temperature (T)\", fontsize=15)\n",
    "plt.ylabel(r\"Specific Heat\", fontsize=15)\n",
    "plt.grid()\n",
    "\n",
    "\n",
    "sp =  f.add_subplot(2, 2, 4 )\n",
    "plt.plot(T, Susceptibility, 'o', color=\"blue\")\n",
    "plt.xlabel(r\"Temperature (T)\", fontsize=15)\n",
    "plt.ylabel(r\"Susceptibility\", fontsize=15)\n",
    "plt.grid()\n"
   ]
  },
  {
   "cell_type": "code",
   "execution_count": null,
   "metadata": {
    "collapsed": true
   },
   "outputs": [],
   "source": [
    "# change in energy is 8J\n",
    "#    d          d               u          u        \n",
    "# d  d  d => d  u  d   or    u  u  u => u  d  u  \n",
    "#    d          d               u          u \n",
    "#     \n",
    "# change in energy is 4J\n",
    "#    d          d               u          u        \n",
    "# d  d  u => d  u  u   or    u  u  d => u  d  d   \n",
    "#    d          d               u          u \n",
    "#     \n",
    "# Here u and d are used for up and down configuration of the spins"
   ]
  },
  {
   "cell_type": "code",
   "execution_count": null,
   "metadata": {
    "collapsed": true
   },
   "outputs": [],
   "source": [
    "%matplotlib inline\n",
    "# Simulating the Ising model\n",
    "from __future__ import division\n",
    "import numpy as np\n",
    "from numpy.random import rand\n",
    "import matplotlib.pyplot as plt\n",
    "\n",
    "class Ising():\n",
    "    ''' Simulating the Ising model '''    \n",
    "    ## monte carlo moves\n",
    "    def mcmove(self, config, N, beta):\n",
    "        ''' This is to execute the monte carlo moves using \n",
    "        Metropolis algorithm such that detailed\n",
    "        balance condition is satisified'''\n",
    "        for i in range(N):\n",
    "            for j in range(N):            \n",
    "                    a = np.random.randint(0, N)\n",
    "                    b = np.random.randint(0, N)\n",
    "                    s =  config[a, b]\n",
    "                    nb = config[(a+1)%N,b] + config[a,(b+1)%N] + config[(a-1)%N,b] + config[a,(b-1)%N]\n",
    "                    cost = 2*s*nb\n",
    "                    if cost < 0:\t\n",
    "                        s *= -1\n",
    "                    elif rand() < np.exp(-cost*beta):\n",
    "                        s *= -1\n",
    "                    config[a, b] = s\n",
    "        return config\n",
    "    \n",
    "    def simulate(self):   \n",
    "        ''' This module simulates the Ising model'''\n",
    "        N, temp     = 64, .4        # Initialse the lattice\n",
    "        config = 2*np.random.randint(2, size=(N,N))-1\n",
    "        f = plt.figure(figsize=(15, 15), dpi=80);    \n",
    "        self.configPlot(f, config, 0, N, 1);\n",
    "        \n",
    "        msrmnt = 1001\n",
    "        for i in range(msrmnt):\n",
    "            self.mcmove(config, N, 1.0/temp)\n",
    "            if i == 1:        self.configPlot(f, config, i, N, 2);\n",
    "            if i == 4:       self.configPlot(f, config, i, N, 3);\n",
    "            if i == 32:      self.configPlot(f, config, i, N, 4);\n",
    "            if i == 100:     self.configPlot(f, config, i, N, 5);\n",
    "            if i == 1000:    self.configPlot(f, config, i, N, 6);\n",
    "                 \n",
    "                    \n",
    "    def configPlot(self, f, config, i, N, n_):\n",
    "        ''' This modules plts the configuration once passed to it along with time etc '''\n",
    "        X, Y = np.meshgrid(range(N), range(N))\n",
    "        sp =  f.add_subplot(3, 3, n_ )  \n",
    "        plt.setp(sp.get_yticklabels(), visible=False)\n",
    "        plt.setp(sp.get_xticklabels(), visible=False)      \n",
    "        plt.pcolormesh(X, Y, config, cmap=plt.cm.RdBu);\n",
    "        plt.title('Time=%d'%i); plt.axis('tight')    \n",
    "    plt.show()"
   ]
  },
  {
   "cell_type": "code",
   "execution_count": null,
   "metadata": {
    "collapsed": true
   },
   "outputs": [],
   "source": [
    "rm = Ising()"
   ]
  },
  {
   "cell_type": "code",
   "execution_count": null,
   "metadata": {
    "collapsed": true
   },
   "outputs": [],
   "source": [
    "rm.simulate()"
   ]
  },
  {
   "cell_type": "code",
   "execution_count": null,
   "metadata": {
    "collapsed": true
   },
   "outputs": [],
   "source": []
  }
 ],
 "metadata": {
  "kernelspec": {
   "display_name": "Python 3",
   "language": "python",
   "name": "python3"
  },
  "language_info": {
   "codemirror_mode": {
    "name": "ipython",
    "version": 3
   },
   "file_extension": ".py",
   "mimetype": "text/x-python",
   "name": "python",
   "nbconvert_exporter": "python",
   "pygments_lexer": "ipython3",
   "version": "3.6.1"
  }
 },
 "nbformat": 4,
 "nbformat_minor": 2
}
